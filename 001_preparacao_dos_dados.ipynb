{
 "cells": [
  {
   "cell_type": "markdown",
   "metadata": {},
   "source": [
    "# Preparação do dados\n",
    "_Feature Engineering_ e _Construção de Target_\n",
    "\n",
    "---\n",
    "\n",
    "## Sumário\n",
    "\n",
    "1. **Importação de bibliotecas**\n",
    "2. **Carregamento das bases**\n",
    "3. **Análise dos dataframes**\n",
    "4. **Feature Engineering**\n",
    "5. **Construção de Target**\n",
    "\n",
    "<br>\n",
    "\n",
    "---\n",
    "\n",
    "<br>"
   ]
  },
  {
   "cell_type": "markdown",
   "metadata": {},
   "source": [
    "## 1. Importação de bibliotecas"
   ]
  },
  {
   "cell_type": "code",
   "execution_count": 58,
   "metadata": {},
   "outputs": [],
   "source": [
    "# Importação de pacotes e definição de parâmetros globais\n",
    "\n",
    "import pandas as pd\n",
    "import numpy as np\n",
    "import matplotlib.pyplot as plt\n",
    "import matplotlib.ticker as mticker\n",
    "import seaborn as sns\n",
    "import missingno as msno\n",
    "import warnings\n",
    "import gc"
   ]
  },
  {
   "cell_type": "code",
   "execution_count": 59,
   "metadata": {},
   "outputs": [],
   "source": [
    "# Configurações para exibição de dados no Jupyter Notebook\n",
    "\n",
    "# Configurar opção para exibir todas as linhas do Dataframe\n",
    "pd.set_option('display.max_rows', None)\n",
    "\n",
    "# Configurar para exibir o conteúdo completo das colunas\n",
    "pd.set_option('display.max_colwidth', None)\n",
    "\n",
    "# Configurar a supressão de mensagens de aviso durante a execução\n",
    "warnings.filterwarnings('ignore')\n",
    "\n",
    "# Configurar estilo dos gráficos do seaborn\n",
    "sns.set_style('whitegrid')"
   ]
  },
  {
   "cell_type": "markdown",
   "metadata": {},
   "source": [
    "## 2. Carregamento das bases"
   ]
  },
  {
   "cell_type": "code",
   "execution_count": null,
   "metadata": {},
   "outputs": [],
   "source": [
    "# Efetuando a limpeza da memória antes do carregamento dos dados\n",
    "print(f'\\nQuantidade de objetos removidos da memória: {gc.collect()}')"
   ]
  },
  {
   "cell_type": "code",
   "execution_count": null,
   "metadata": {},
   "outputs": [],
   "source": [
    "# Criando um dataframe a partir do arquivo train.csv\n",
    "df_train = pd.read_csv('dados/train.csv', sep=',')\n",
    "print('\\nDATAFRAME: df_train')\n",
    "df_train.head()"
   ]
  },
  {
   "cell_type": "code",
   "execution_count": null,
   "metadata": {},
   "outputs": [],
   "source": [
    "# Criando um dataframe a partir do arquivo test.csv\n",
    "df_test = pd.read_csv('dados/test.csv', sep=',')\n",
    "print('\\nDATAFRAME: df_test')\n",
    "df_test.head()"
   ]
  },
  {
   "cell_type": "code",
   "execution_count": null,
   "metadata": {},
   "outputs": [],
   "source": [
    "# Criando um dataframe a partir do arquivo store.csv\n",
    "df_store = pd.read_csv('dados/store.csv', sep=',')\n",
    "print('\\nDATAFRAME: df_store')\n",
    "df_store.head()"
   ]
  },
  {
   "cell_type": "markdown",
   "metadata": {},
   "source": [
    "## 3. Análise dos dataframes"
   ]
  },
  {
   "cell_type": "code",
   "execution_count": null,
   "metadata": {},
   "outputs": [],
   "source": [
    "# Exibindo a quantidade de linhas e colunas dos dataframes\n",
    "\n",
    "# Criação de um dicionário com os dataframes e seus respectivos nomes\n",
    "dfs = {\n",
    "    'df_train': df_train,\n",
    "    'df_test': df_test,\n",
    "    'df_store': df_store\n",
    "}\n",
    "\n",
    "# Iteração sobre o dicionário para exibir o nome e as dimensões dos dataframes\n",
    "print(f'\\nVOLUMETRIA')\n",
    "for nome, df in dfs.items():\n",
    "    print(f'\\n{nome}')\n",
    "    print(f'-'*45)\n",
    "    print(f'Quantidade de linhas (registros):  {df.shape[0]}')\n",
    "    print(f'Quantidade de colunas (variáveis): {df.shape[1]}')   "
   ]
  },
  {
   "cell_type": "code",
   "execution_count": 65,
   "metadata": {},
   "outputs": [],
   "source": [
    "# Unindo df_train com df_store\n",
    "df_train_full = pd.merge(df_train, df_store, on='Store', how='left')\n",
    "\n",
    "# Unindo df_train com df_store\n",
    "df_test_full = pd.merge(df_test, df_store, on='Store', how='left')"
   ]
  },
  {
   "cell_type": "code",
   "execution_count": null,
   "metadata": {},
   "outputs": [],
   "source": [
    "df_train_full.head()"
   ]
  },
  {
   "cell_type": "code",
   "execution_count": null,
   "metadata": {},
   "outputs": [],
   "source": [
    "df_test_full.head()"
   ]
  },
  {
   "cell_type": "code",
   "execution_count": 68,
   "metadata": {},
   "outputs": [],
   "source": [
    "# Função para geração de um dataframe de metadados\n",
    "\n",
    "def gerar_metadados(dataframe):\n",
    "    '''\n",
    "    Gera um dataframe contendo metadados das colunas do dataframe fornecido.\n",
    "\n",
    "    :param dataframe: Dataframe\n",
    "        DataFrame para o qual os metadados serão gerados.\n",
    "    :return: DataFrame\n",
    "        DataFrame contendo os metadados.\n",
    "    '''\n",
    "    metadados = pd.DataFrame({\n",
    "        'Variável': dataframe.columns,\n",
    "        'Tipo': dataframe.dtypes,\n",
    "        'Qtde de nulos': dataframe.isnull().sum(),\n",
    "        '% de nulos': round((dataframe.isnull().sum()/len(dataframe))*100, 2),\n",
    "        'Cardinalidade': dataframe.nunique(),\n",
    "    })\n",
    "    metadados = metadados.sort_values(by='Qtde de nulos', ascending=False)\n",
    "    metadados = metadados.reset_index(drop=True)\n",
    "    return metadados"
   ]
  },
  {
   "cell_type": "code",
   "execution_count": null,
   "metadata": {},
   "outputs": [],
   "source": [
    "# Exibindo os metadados do dataframe unificado de treino\n",
    "gerar_metadados(df_train_full)"
   ]
  },
  {
   "cell_type": "code",
   "execution_count": null,
   "metadata": {},
   "outputs": [],
   "source": [
    "# Colunas que estão em df_train_full mas não em df_test_full\n",
    "diff_columns = df_train_full.columns.difference(df_test_full.columns)\n",
    "diff_columns"
   ]
  },
  {
   "cell_type": "code",
   "execution_count": 71,
   "metadata": {},
   "outputs": [],
   "source": [
    "# Transforma para o tipo de dados datetime\n",
    "df_train_full['Date'] = pd.to_datetime(df_train_full['Date'])\n",
    "df_test_full['Date'] = pd.to_datetime(df_test_full['Date'])"
   ]
  },
  {
   "cell_type": "markdown",
   "metadata": {},
   "source": [
    "## 4. Feature Engineering"
   ]
  },
  {
   "cell_type": "code",
   "execution_count": 72,
   "metadata": {},
   "outputs": [],
   "source": [
    "# Dicionário com os dataframes de treino e teste\n",
    "dfs = {\n",
    "    'df_train_full': df_train_full,\n",
    "    'df_test_full': df_test_full\n",
    "}"
   ]
  },
  {
   "cell_type": "code",
   "execution_count": 73,
   "metadata": {},
   "outputs": [],
   "source": [
    "# Variáveis temporais\n",
    "\n",
    "for name, df in dfs.items():\n",
    "    df['Year'] = df['Date'].dt.year\n",
    "    df['Month'] = df['Date'].dt.month\n",
    "    df['Day'] = df['Date'].dt.day\n",
    "    df['Quarter'] = df['Date'].dt.quarter\n",
    "    df['DayOfWeek'] = df['Date'].dt.dayofweek\n",
    "    df['IsWeekend'] = df['Date'].dt.dayofweek >= 5\n",
    "    df['DayOfYear'] = df['Date'].dt.dayofyear"
   ]
  },
  {
   "cell_type": "code",
   "execution_count": 74,
   "metadata": {},
   "outputs": [],
   "source": [
    "# Variáveis de concorrência\n",
    "\n",
    "def calculate_months_since_competition_opened(sub_df):\n",
    "    '''\n",
    "    Calcula o número de meses desde que a concorrência abriu para cada loja.\n",
    "    \n",
    "    :param sub_df: dataframe\n",
    "        Um DataFrame contendo as colunas expecíficas\n",
    "    :return: Series\n",
    "        Uma série com o número de meses desde que a concorrência abriu, com\n",
    "        valore maiores ou iguais a zero(0).\n",
    "    ''' \n",
    "    months = (sub_df['Year'] - sub_df['CompetitionOpenSinceYear']) * 12 + (\n",
    "        sub_df['Month'] - sub_df['CompetitionOpenSinceMonth'])\n",
    "    return months.clip(lower=0)\n",
    "\n",
    "\n",
    "def calculate_years_since_competition_opened(sub_df):\n",
    "    '''\n",
    "    Calcula o número de anos desde que a concorrência abriu para cada loja.\n",
    "    \n",
    "    :param sub_df: dataframe\n",
    "        Um DataFrame contendo as colunas expecíficas\n",
    "    :return: Series\n",
    "        Uma série com o número de anos desde que a concorrência abriu, com\n",
    "        valore maiores ou iguais a zero(0).\n",
    "    ''' \n",
    "    years = (sub_df['Year'] - sub_df['CompetitionOpenSinceYear']) + (\n",
    "        sub_df['Month'] - sub_df['CompetitionOpenSinceMonth']) / 12\n",
    "    return years.clip(lower=0)"
   ]
  },
  {
   "cell_type": "code",
   "execution_count": 75,
   "metadata": {},
   "outputs": [],
   "source": [
    "for name, df in dfs.items():\n",
    "\n",
    "\tdf['MonthsSinceTheCompetitionOpened'] = (\n",
    "\t\tdf.groupby('Store').apply(calculate_months_since_competition_opened\n",
    "                            ).reset_index(drop=True))\n",
    "\n",
    "\tdf['YearsSinceTheCompetitionOpened'] = (\n",
    "\t\tdf.groupby('Store').apply(calculate_years_since_competition_opened\n",
    "                            ).reset_index(drop=True))"
   ]
  },
  {
   "cell_type": "code",
   "execution_count": 76,
   "metadata": {},
   "outputs": [],
   "source": [
    "# Variáveis de somas móveis\n",
    "\n",
    "def add_rolling_sums(df, windows, vars):\n",
    "    '''\n",
    "    Adicionar variáveis de somas móveis.\n",
    "    \n",
    "    param df: Dataframe\n",
    "        DataFrame onde as somas móveis serão adicionadas.\n",
    "    param windows: list\n",
    "        Lista de tamanhos de janelas móveis para calcular a soma.\n",
    "    param vars:\n",
    "        Lista contendo duas strings: a primeira é a variável para agrupar e a segunda\n",
    "        é a variável sobre a qual calcular a soma móvel.\n",
    "        \n",
    "    return: Dataframe\n",
    "        DataFrame original com as novas colunas de soma móvel adicionadas.\n",
    "    '''\n",
    "    for window in windows:\n",
    "        name = f'{vars[1]}RollingSum_{window}'\n",
    "        df[name] = df.groupby(vars[0])[vars[1]].transform(lambda x: x.rolling(window=window).sum())\n",
    "    return df"
   ]
  },
  {
   "cell_type": "code",
   "execution_count": 77,
   "metadata": {},
   "outputs": [],
   "source": [
    "windows = [3, 5, 7, 14, 21, 28, 30, 60, 90, 120, 150, 180, 360]\n",
    "vars = ['Store', 'Promo']\n",
    "\n",
    "df_train_full = add_rolling_sums(df_train_full, windows, vars)\n",
    "df_test_full = add_rolling_sums(df_train_full, windows, vars)"
   ]
  },
  {
   "cell_type": "markdown",
   "metadata": {},
   "source": [
    "## 5. Construção de target"
   ]
  },
  {
   "cell_type": "code",
   "execution_count": null,
   "metadata": {},
   "outputs": [],
   "source": [
    "# Soma das vendas nos próximos 42 dias (6 semanas), excluindo o dia atual\n",
    "df_train_full['Target'] = df_train_full.groupby('Store')['Sales'].transform(\n",
    "    lambda x: x.rolling(window=42, min_periods=1).sum().shift(-42))\n",
    "\n",
    "# Definir Target como zero para os dias com 'Sales' igual a zero\n",
    "df_train_full['Target'] = np.where(df_train_full['Sales'] == 0, 0, df_train_full['Target'])\n",
    "\n",
    "# Remover as linhas onde o Target não pode ser calculado (últimos 42 dias)\n",
    "df_train_full.dropna(subset=['Target'], inplace=True)\n"
   ]
  },
  {
   "cell_type": "code",
   "execution_count": null,
   "metadata": {},
   "outputs": [],
   "source": [
    "df_train_full.head()"
   ]
  }
 ],
 "metadata": {
  "kernelspec": {
   "display_name": "venv",
   "language": "python",
   "name": "python3"
  },
  "language_info": {
   "codemirror_mode": {
    "name": "ipython",
    "version": 3
   },
   "file_extension": ".py",
   "mimetype": "text/x-python",
   "name": "python",
   "nbconvert_exporter": "python",
   "pygments_lexer": "ipython3",
   "version": "3.12.6"
  }
 },
 "nbformat": 4,
 "nbformat_minor": 4
}
